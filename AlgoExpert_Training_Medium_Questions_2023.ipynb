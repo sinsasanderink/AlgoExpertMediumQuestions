{
  "nbformat": 4,
  "nbformat_minor": 0,
  "metadata": {
    "colab": {
      "provenance": []
    },
    "kernelspec": {
      "name": "python3",
      "display_name": "Python 3"
    },
    "language_info": {
      "name": "python"
    }
  },
  "cells": [
    {
      "cell_type": "markdown",
      "source": [
        "# **Spiral Traverse** - needs repetition!\n"
      ],
      "metadata": {
        "id": "qXRg4tBINw2t"
      }
    },
    {
      "cell_type": "code",
      "source": [
        "array = [\n",
        "    [1, 2, 3, 4],\n",
        "    [12, 13, 14, 5],\n",
        "    [11, 16, 15, 6],\n",
        "    [10, 9, 8, 7],\n",
        "]"
      ],
      "metadata": {
        "id": "teZLVGNdODBr"
      },
      "execution_count": null,
      "outputs": []
    },
    {
      "cell_type": "code",
      "source": [
        "def spiralTraverse(array):\n",
        "    # Write your code here.\n",
        "    result = []\n",
        "    startRow, endRow = 0, len(array) -1\n",
        "    startCol, endCol = 0, len(array[0]) - 1\n",
        "\n",
        "    while startRow <= endRow and startCol <= endCol:\n",
        "         for col in range(startCol, endCol + 1):\n",
        "             result.append(array[startRow][col])\n",
        "\n",
        "         for row in range(startRow + 1, endRow + 1):\n",
        "             result.append(array[row][endCol])\n",
        "\n",
        "         for col in reversed(range(startCol, endCol)):\n",
        "             if startRow == endRow:\n",
        "                break\n",
        "             result.append(array[endRow][col])\n",
        "\n",
        "         for row in reversed(range(startRow + 1, endRow)):\n",
        "             if startCol == endCol:\n",
        "                break\n",
        "             result.append(array[row][startCol])\n",
        "\n",
        "         startRow += 1\n",
        "         endRow -= 1\n",
        "         startCol += 1\n",
        "         endCol -= 1\n",
        "\n",
        "    return result"
      ],
      "metadata": {
        "id": "-TZC7jBfN1TA"
      },
      "execution_count": null,
      "outputs": []
    },
    {
      "cell_type": "code",
      "source": [
        "spiralTraverse(array)"
      ],
      "metadata": {
        "colab": {
          "base_uri": "https://localhost:8080/"
        },
        "id": "U3F4BS-M4N71",
        "outputId": "fc66637e-66a2-4eeb-aa46-594c76777071"
      },
      "execution_count": null,
      "outputs": [
        {
          "output_type": "execute_result",
          "data": {
            "text/plain": [
              "[1, 2, 3, 4, 5, 6, 7, 8, 9, 10, 11, 12, 13, 14, 15, 16]"
            ]
          },
          "metadata": {},
          "execution_count": 13
        }
      ]
    },
    {
      "cell_type": "markdown",
      "source": [
        "# **Longest Peak**"
      ],
      "metadata": {
        "id": "DySxQAvaUD7h"
      }
    },
    {
      "cell_type": "code",
      "source": [
        "array = [1, 2, 3, 3, 4, 0, 10, 6, 5, -1, -3, 2, 3]"
      ],
      "metadata": {
        "id": "I6zff1bkIQf4"
      },
      "execution_count": null,
      "outputs": []
    },
    {
      "cell_type": "code",
      "source": [
        "def longestPeak(array):\n",
        "    # Write your code here.\n",
        "    longestPeak = 0\n",
        "    i = 1\n",
        "    while i < len(array) - 1:\n",
        "      isPeak = array[i-1] < array[i] and array[i+1] < array[i]\n",
        "      if not isPeak:\n",
        "        i += 1\n",
        "        continue\n",
        "\n",
        "      leftIdx = i - 2\n",
        "      while leftIdx >= 0 and array[leftIdx] < array[leftIdx +1]:\n",
        "        leftIdx -= 1\n",
        "\n",
        "      rightIdx = i + 2\n",
        "      while rightIdx < len(array) and array[rightIdx] < array[rightIdx -1]:\n",
        "        rightIdx += 1\n",
        "\n",
        "      currentPeakLength = rightIdx - leftIdx - 1\n",
        "      longestPeak = max(currentPeakLength, longestPeak)\n",
        "      i = rightIdx\n",
        "\n",
        "    return longestPeak\n",
        "\n",
        "\n",
        "\n",
        "\n"
      ],
      "metadata": {
        "id": "d7kObkXpUDSv",
        "colab": {
          "base_uri": "https://localhost:8080/"
        },
        "outputId": "7150f741-54a6-4051-833d-d8d2baf9574e"
      },
      "execution_count": null,
      "outputs": [
        {
          "output_type": "execute_result",
          "data": {
            "text/plain": [
              "3"
            ]
          },
          "metadata": {},
          "execution_count": 15
        }
      ]
    },
    {
      "cell_type": "markdown",
      "source": [
        "# **Array Of Products**"
      ],
      "metadata": {
        "id": "yJVmk-_1YxZh"
      }
    },
    {
      "cell_type": "code",
      "source": [
        "array = [5, 1, 4, 2]"
      ],
      "metadata": {
        "id": "fEfquPv-Ahyr"
      },
      "execution_count": null,
      "outputs": []
    },
    {
      "cell_type": "code",
      "source": [
        "# brute force approach\n",
        "def arrayOfProducts(array):\n",
        "    newArray = []\n",
        "    tempProduct = 1\n",
        "    for idx, num in enumerate(array):\n",
        "      tempProduct = 1\n",
        "      for idx2, num2 in enumerate(array):\n",
        "        if idx != idx2:\n",
        "          tempProduct *= num2\n",
        "      newArray.append(tempProduct)\n",
        "    return newArray\n",
        "\n",
        "\n",
        "\n",
        "\n",
        "\n",
        "arrayOfProducts(array)"
      ],
      "metadata": {
        "colab": {
          "base_uri": "https://localhost:8080/"
        },
        "id": "3_aD8ct5Yzo_",
        "outputId": "f7038754-769d-424d-e389-e9124d9dd986"
      },
      "execution_count": null,
      "outputs": [
        {
          "output_type": "execute_result",
          "data": {
            "text/plain": [
              "[8, 40, 10, 20]"
            ]
          },
          "metadata": {},
          "execution_count": 14
        }
      ]
    },
    {
      "cell_type": "code",
      "source": [
        "# O(n) time & space - more efficient\n",
        "def arrayOfProducts(array):\n",
        "    newArray = [1 for i in array]\n",
        "    leftProducts = [1 for i in array]\n",
        "    rightProducts = [1 for i in array]\n",
        "\n",
        "    leftRunningProduct = 1\n",
        "    for i in range(len(array)):\n",
        "      leftProducts[i] = leftRunningProduct\n",
        "      leftRunningProduct *= array[i]\n",
        "\n",
        "    rightRunningProduct = 1\n",
        "    for i in reversed(range(len(array))):\n",
        "      rightProducts[i] = rightRunningProduct\n",
        "      rightRunningProduct *= array[i]\n",
        "\n",
        "    for i in range(len(rightProducts)):\n",
        "      newArray[i] = leftProducts[i] * rightProducts[i]\n",
        "\n",
        "\n",
        "    return newArray\n",
        "\n",
        "\n",
        "arrayOfProducts(array)"
      ],
      "metadata": {
        "id": "POz6QvWTZVNm",
        "colab": {
          "base_uri": "https://localhost:8080/"
        },
        "outputId": "e4170bab-5adb-4e88-e975-8ea3714e07f2"
      },
      "execution_count": null,
      "outputs": [
        {
          "output_type": "execute_result",
          "data": {
            "text/plain": [
              "[8, 40, 10, 20]"
            ]
          },
          "metadata": {},
          "execution_count": 23
        }
      ]
    },
    {
      "cell_type": "code",
      "source": [
        "# most efficient, also O(n) time and space\n",
        "def arrayOfProducts(array):\n",
        "    # Write your code here.\n",
        "    products = [1 for i in array]\n",
        "\n",
        "    leftRunningProduct = 1\n",
        "    for i in range(len(array)):\n",
        "      products[i] = leftRunningProduct\n",
        "      leftRunningProduct *= array[i]\n",
        "\n",
        "    rightRunningProduct = 1\n",
        "    for i in reversed(range(len(array))):\n",
        "      products[i] = products[i] * rightRunningProduct\n",
        "      rightRunningProduct *= array[i]\n",
        "\n",
        "    return products\n"
      ],
      "metadata": {
        "id": "N4fBCF08OjAb"
      },
      "execution_count": null,
      "outputs": []
    },
    {
      "cell_type": "markdown",
      "source": [
        "# **First Duplicate Value**"
      ],
      "metadata": {
        "id": "EfSBCSJwQL9n"
      }
    },
    {
      "cell_type": "code",
      "source": [
        "array = [2, 1, 5, 2, 3, 3, 4]"
      ],
      "metadata": {
        "id": "Qk6I98boQx8o"
      },
      "execution_count": null,
      "outputs": []
    },
    {
      "cell_type": "code",
      "source": [
        "# o(n)^2 time\n",
        "def firstDuplicateValue(array):\n",
        "    # Write your code here.\n",
        "    for idx in range(1, len(array)):\n",
        "      tempArray = array[:idx]\n",
        "      if array[idx] in tempArray:\n",
        "        return array[idx]\n",
        "\n",
        "    return -1"
      ],
      "metadata": {
        "colab": {
          "base_uri": "https://localhost:8080/"
        },
        "id": "Vxa8VDMBRrPV",
        "outputId": "f04060c1-41cc-4499-b67b-dcb12c45cb25"
      },
      "execution_count": null,
      "outputs": [
        {
          "output_type": "execute_result",
          "data": {
            "text/plain": [
              "2"
            ]
          },
          "metadata": {},
          "execution_count": 31
        }
      ]
    },
    {
      "cell_type": "code",
      "source": [
        "# O(n) time & space\n",
        "def firstDuplicateValue(array):\n",
        "    # Write your code here.\n",
        "    seen = set()\n",
        "    for num in array:\n",
        "      if num in seen:\n",
        "        return num\n",
        "      seen.add(num)\n",
        "    return -1"
      ],
      "metadata": {
        "id": "UO4cpahQUIPN"
      },
      "execution_count": null,
      "outputs": []
    },
    {
      "cell_type": "markdown",
      "source": [
        "# **Merge Overlapping Intervals**"
      ],
      "metadata": {
        "id": "LqFFTOaxVB0v"
      }
    },
    {
      "cell_type": "code",
      "source": [
        "intervals = [[1, 2], [3, 5], [4, 7], [6, 8], [9, 10]]"
      ],
      "metadata": {
        "id": "bv1MbyGxZb2Z"
      },
      "execution_count": null,
      "outputs": []
    },
    {
      "cell_type": "code",
      "source": [
        "def mergeOverlappingIntervals(intervals):\n",
        "    # Write your code here.\n",
        "    mergedIntervals = []\n",
        "    sortedIntervals = sorted(intervals, key=lambda x: x[0])\n",
        "    currentInterval = sortedIntervals[0]\n",
        "    mergedIntervals.append(currentInterval)\n",
        "\n",
        "    for nextInterval in sortedIntervals:\n",
        "      _, currentIntervalEnd = currentInterval[0], currentInterval[1]\n",
        "      nextIntervalStart, nextIntervalEnd = nextInterval[0], nextInterval[1]\n",
        "\n",
        "      if currentIntervalEnd >= nextIntervalStart:\n",
        "        currentInterval[1] = max(currentIntervalEnd, nextIntervalEnd)\n",
        "      else:\n",
        "        currentInterval = nextInterval\n",
        "        mergedIntervals.append(currentInterval)\n",
        "    return mergedIntervals"
      ],
      "metadata": {
        "id": "_hYzzVc8VD1t"
      },
      "execution_count": null,
      "outputs": []
    },
    {
      "cell_type": "markdown",
      "source": [
        "# **Best Seat**"
      ],
      "metadata": {
        "id": "5QHM7cNcGQdR"
      }
    },
    {
      "cell_type": "code",
      "source": [
        "seats = [1, 0, 1, 0, 0, 0, 1]"
      ],
      "metadata": {
        "id": "dSnVmPqXHaDx"
      },
      "execution_count": null,
      "outputs": []
    },
    {
      "cell_type": "code",
      "source": [
        "seats = [1, 0, 0, 0, 0, 0, 0, 1, 0, 0, 1]"
      ],
      "metadata": {
        "id": "NWgD5oVXN3kO"
      },
      "execution_count": null,
      "outputs": []
    },
    {
      "cell_type": "code",
      "source": [
        "def bestSeat(seats):\n",
        "    # Write your code here.\n",
        "    bestSeat = -1\n",
        "    bestSpace = 0\n",
        "\n",
        "    left = 0\n",
        "    while left < len(seats):\n",
        "      right = left + 1\n",
        "      while right < len(seats) and seats[right] == 0:\n",
        "        right += 1\n",
        "\n",
        "      availableSpace = right - left - 1\n",
        "      if availableSpace > bestSpace:\n",
        "        bestSeat = (left + right) // 2\n",
        "        bestSpace = availableSpace\n",
        "      left = right\n",
        "    return bestSeat\n",
        "\n",
        "bestSeat(seats)"
      ],
      "metadata": {
        "colab": {
          "base_uri": "https://localhost:8080/"
        },
        "id": "a0fcZho6GSB4",
        "outputId": "7d46dbed-7101-41de-8246-4103ef458317"
      },
      "execution_count": null,
      "outputs": [
        {
          "output_type": "execute_result",
          "data": {
            "text/plain": [
              "4"
            ]
          },
          "metadata": {},
          "execution_count": 41
        }
      ]
    },
    {
      "cell_type": "markdown",
      "source": [
        "# **Zero Sum Subarray**"
      ],
      "metadata": {
        "id": "O2_k-qc6WZSB"
      }
    },
    {
      "cell_type": "code",
      "source": [
        "nums = [-5, -5, 2, 3, -2]"
      ],
      "metadata": {
        "id": "Bx2L99FyXjDU"
      },
      "execution_count": null,
      "outputs": []
    },
    {
      "cell_type": "code",
      "source": [
        "def zeroSumSubarray(nums):\n",
        "    # Write your code here.\n",
        "    currentSum = 0\n",
        "    sums = set([0])\n",
        "    for num in nums:\n",
        "      currentSum += num\n",
        "      if currentSum in sums:\n",
        "        return True\n",
        "      sums.add(currentSum)\n",
        "    return False\n",
        "zeroSumSubarray(nums)"
      ],
      "metadata": {
        "colab": {
          "base_uri": "https://localhost:8080/"
        },
        "id": "LeFZWSklWbeK",
        "outputId": "5b28b8e4-6359-4614-9d18-fe314ef635e5"
      },
      "execution_count": null,
      "outputs": [
        {
          "output_type": "execute_result",
          "data": {
            "text/plain": [
              "True"
            ]
          },
          "metadata": {},
          "execution_count": 58
        }
      ]
    },
    {
      "cell_type": "markdown",
      "source": [
        "# **Missing Numbers** *work on understanding the efficient solution!*"
      ],
      "metadata": {
        "id": "_Ujy-mlukFNE"
      }
    },
    {
      "cell_type": "code",
      "source": [
        "nums = [1, 4, 3]"
      ],
      "metadata": {
        "id": "y6D3AbSrkswg"
      },
      "execution_count": null,
      "outputs": []
    },
    {
      "cell_type": "code",
      "source": [
        "nums = []"
      ],
      "metadata": {
        "id": "vi4ZdEuEleCD"
      },
      "execution_count": null,
      "outputs": []
    },
    {
      "cell_type": "code",
      "source": [
        "def missingNumbers(nums):\n",
        "    # Write your code here.\n",
        "    setNums = set(nums)\n",
        "    result = []\n",
        "    for num in range(1, len(nums)+3):\n",
        "      if not num in setNums:\n",
        "        result.append(num)\n",
        "    return result\n",
        "missingNumbers(nums)"
      ],
      "metadata": {
        "colab": {
          "base_uri": "https://localhost:8080/"
        },
        "id": "Kv55ci2EkIMp",
        "outputId": "892fc048-8329-4beb-fe18-46372bc315d8"
      },
      "execution_count": null,
      "outputs": [
        {
          "output_type": "execute_result",
          "data": {
            "text/plain": [
              "[2, 5]"
            ]
          },
          "metadata": {},
          "execution_count": 2
        }
      ]
    },
    {
      "cell_type": "markdown",
      "source": [
        "# **Majority Element**"
      ],
      "metadata": {
        "id": "VAITs5E5BiUZ"
      }
    },
    {
      "cell_type": "code",
      "source": [
        "array = [1, 2, 3, 2, 2, 1, 2]"
      ],
      "metadata": {
        "id": "hnEwZAF4C068"
      },
      "execution_count": null,
      "outputs": []
    },
    {
      "cell_type": "code",
      "source": [
        "array = [3, 2, 2, 1]"
      ],
      "metadata": {
        "id": "XAaosKMrEwzK"
      },
      "execution_count": null,
      "outputs": []
    },
    {
      "cell_type": "code",
      "source": [
        "array = [3, 4, 2, 2, 1]"
      ],
      "metadata": {
        "id": "P1jGtwcLE2n-"
      },
      "execution_count": null,
      "outputs": []
    },
    {
      "cell_type": "code",
      "source": [
        "# working solution O(n) time & space, but only o(1) space allowed\n",
        "def majorityElement(array):\n",
        "    # Write your code here.\n",
        "    dictionary = {}\n",
        "    for num in array:\n",
        "      dictionary[num] = dictionary.get(num, 0) + 1\n",
        "\n",
        "    maxKey = max(dictionary, key=dictionary.get)\n",
        "    maxValue = max(dictionary.values())\n",
        "    if maxValue > (len(array)//2):\n",
        "      return maxKey\n",
        "    return -1\n",
        "\n",
        "majorityElement(array)"
      ],
      "metadata": {
        "colab": {
          "base_uri": "https://localhost:8080/"
        },
        "id": "Kz4RSWk0BnFu",
        "outputId": "4bfb3130-8496-41dc-9d99-5f7a1ba56c0f"
      },
      "execution_count": null,
      "outputs": [
        {
          "output_type": "execute_result",
          "data": {
            "text/plain": [
              "-1"
            ]
          },
          "metadata": {},
          "execution_count": 15
        }
      ]
    },
    {
      "cell_type": "code",
      "source": [
        "array = [1, 2, 1, 2, 1, 2, 1, 2, 2]"
      ],
      "metadata": {
        "id": "GaEVg0p-OhS9"
      },
      "execution_count": null,
      "outputs": []
    },
    {
      "cell_type": "code",
      "source": [
        "# Boyer-Moore Voting Algorithm: O(n) time & O(1) space\n",
        "def majorityElement(array):\n",
        "    # Write your code here.\n",
        "    count = 0\n",
        "    answer = None\n",
        "    for num in array:\n",
        "      if count == 0:\n",
        "        answer = num\n",
        "      if num == answer:\n",
        "        count += 1\n",
        "      else:\n",
        "        count -= 1\n",
        "    return answer\n",
        "majorityElement(array)"
      ],
      "metadata": {
        "colab": {
          "base_uri": "https://localhost:8080/"
        },
        "id": "ID4v8KnjFcQJ",
        "outputId": "acc024d5-5319-4f4f-b802-df4c634021d2"
      },
      "execution_count": null,
      "outputs": [
        {
          "output_type": "execute_result",
          "data": {
            "text/plain": [
              "2"
            ]
          },
          "metadata": {},
          "execution_count": 59
        }
      ]
    },
    {
      "cell_type": "markdown",
      "source": [
        "# **Sweet & Savory**"
      ],
      "metadata": {
        "id": "r5C4nHWuQhcE"
      }
    },
    {
      "cell_type": "code",
      "source": [
        "dishes = [-3, -5, 1, 7]\n",
        "target = 8"
      ],
      "metadata": {
        "id": "YigAhRT5U-_k"
      },
      "execution_count": null,
      "outputs": []
    },
    {
      "cell_type": "code",
      "source": [
        "#  O(n log n) & O(n) space\n",
        "def sweetAndSavory(dishes, target):\n",
        "    sweet = sorted([dish for dish in dishes if dish < 0], reverse = True)\n",
        "    savory = sorted([dish for dish in dishes if dish > 0])\n",
        "\n",
        "    left = 0\n",
        "    right = 0\n",
        "    smallestDifference = float(\"inf\")\n",
        "    bestPair = [0, 0]\n",
        "\n",
        "    while left < len(sweet) and right < len(savory):\n",
        "        currentSum = sweet[left] + savory[right]\n",
        "        currentDifference = abs(target - currentSum)\n",
        "        if currentDifference < smallestDifference and currentSum <= target:\n",
        "            smallestDifference = currentDifference\n",
        "            bestPair = [sweet[left], savory[right]]\n",
        "        elif currentSum < target:\n",
        "            right += 1\n",
        "        else:\n",
        "            left += 1\n",
        "    return bestPair\n",
        "\n",
        "sweetAndSavory(dishes, target)"
      ],
      "metadata": {
        "id": "7koMjEIZQx7e",
        "colab": {
          "base_uri": "https://localhost:8080/",
          "height": 339
        },
        "outputId": "375006b0-15cf-4ef9-e83a-181120a5f9ed"
      },
      "execution_count": null,
      "outputs": [
        {
          "output_type": "error",
          "ename": "TypeError",
          "evalue": "ignored",
          "traceback": [
            "\u001b[0;31m---------------------------------------------------------------------------\u001b[0m",
            "\u001b[0;31mTypeError\u001b[0m                                 Traceback (most recent call last)",
            "\u001b[0;32m<ipython-input-57-eef475d4cd6f>\u001b[0m in \u001b[0;36m<cell line: 22>\u001b[0;34m()\u001b[0m\n\u001b[1;32m     20\u001b[0m     \u001b[0;32mreturn\u001b[0m \u001b[0mbestPair\u001b[0m\u001b[0;34m\u001b[0m\u001b[0;34m\u001b[0m\u001b[0m\n\u001b[1;32m     21\u001b[0m \u001b[0;34m\u001b[0m\u001b[0m\n\u001b[0;32m---> 22\u001b[0;31m \u001b[0msweetAndSavory\u001b[0m\u001b[0;34m(\u001b[0m\u001b[0mdishes\u001b[0m\u001b[0;34m,\u001b[0m \u001b[0mtarget\u001b[0m\u001b[0;34m)\u001b[0m\u001b[0;34m\u001b[0m\u001b[0;34m\u001b[0m\u001b[0m\n\u001b[0m",
            "\u001b[0;32m<ipython-input-57-eef475d4cd6f>\u001b[0m in \u001b[0;36msweetAndSavory\u001b[0;34m(dishes, target)\u001b[0m\n\u001b[1;32m      1\u001b[0m \u001b[0;32mdef\u001b[0m \u001b[0msweetAndSavory\u001b[0m\u001b[0;34m(\u001b[0m\u001b[0mdishes\u001b[0m\u001b[0;34m,\u001b[0m \u001b[0mtarget\u001b[0m\u001b[0;34m)\u001b[0m\u001b[0;34m:\u001b[0m\u001b[0;34m\u001b[0m\u001b[0;34m\u001b[0m\u001b[0m\n\u001b[0;32m----> 2\u001b[0;31m     \u001b[0msweet\u001b[0m \u001b[0;34m=\u001b[0m \u001b[0msorted\u001b[0m\u001b[0;34m(\u001b[0m\u001b[0;34m[\u001b[0m\u001b[0mdish\u001b[0m \u001b[0;32mfor\u001b[0m \u001b[0mdish\u001b[0m \u001b[0;32min\u001b[0m \u001b[0mdishes\u001b[0m \u001b[0;32mif\u001b[0m \u001b[0mdish\u001b[0m \u001b[0;34m<\u001b[0m \u001b[0;36m0\u001b[0m\u001b[0;34m]\u001b[0m\u001b[0;34m,\u001b[0m \u001b[0mreverse\u001b[0m \u001b[0;34m=\u001b[0m \u001b[0;32mTrue\u001b[0m\u001b[0;34m)\u001b[0m\u001b[0;34m\u001b[0m\u001b[0;34m\u001b[0m\u001b[0m\n\u001b[0m\u001b[1;32m      3\u001b[0m     \u001b[0msavory\u001b[0m \u001b[0;34m=\u001b[0m \u001b[0msorted\u001b[0m\u001b[0;34m(\u001b[0m\u001b[0;34m[\u001b[0m\u001b[0mdish\u001b[0m \u001b[0;32mfor\u001b[0m \u001b[0mdish\u001b[0m \u001b[0;32min\u001b[0m \u001b[0mdishes\u001b[0m \u001b[0;32mif\u001b[0m \u001b[0mdish\u001b[0m \u001b[0;34m>\u001b[0m \u001b[0;36m0\u001b[0m\u001b[0;34m]\u001b[0m\u001b[0;34m)\u001b[0m\u001b[0;34m\u001b[0m\u001b[0;34m\u001b[0m\u001b[0m\n\u001b[1;32m      4\u001b[0m \u001b[0;34m\u001b[0m\u001b[0m\n\u001b[1;32m      5\u001b[0m     \u001b[0mleft\u001b[0m \u001b[0;34m=\u001b[0m \u001b[0;36m0\u001b[0m\u001b[0;34m\u001b[0m\u001b[0;34m\u001b[0m\u001b[0m\n",
            "\u001b[0;31mTypeError\u001b[0m: 'list' object is not callable"
          ]
        }
      ]
    },
    {
      "cell_type": "code",
      "source": [
        "# Reverse sort: [-3, -5]\n",
        "# Sort = [-5, -3]"
      ],
      "metadata": {
        "id": "bl6ta9oPfnLT"
      },
      "execution_count": null,
      "outputs": []
    },
    {
      "cell_type": "markdown",
      "source": [
        "# **Medium Strings**"
      ],
      "metadata": {
        "id": "EivNeUGai-JK"
      }
    },
    {
      "cell_type": "markdown",
      "source": [
        "# **Longest Palindromic Substring**"
      ],
      "metadata": {
        "id": "j3ark5hQ-tne"
      }
    },
    {
      "cell_type": "code",
      "source": [
        "string = \"abaxyzzyxcf\""
      ],
      "metadata": {
        "id": "1q3S33-a_VA9"
      },
      "execution_count": null,
      "outputs": []
    },
    {
      "cell_type": "code",
      "source": [
        "def longestPalindromicSubstring(string):\n",
        "    if len(string) == 1:\n",
        "      return string\n",
        "\n",
        "    longestSubstring = \"\"\n",
        "    left = 0\n",
        "    right = 1\n",
        "    while left < len(string) -1:\n",
        "      right = left + 1\n",
        "      while right < len(string):\n",
        "        tempSubstring = string[left:right+1]\n",
        "        if tempSubstring == tempSubstring[::-1]:\n",
        "          if len(tempSubstring) > len(longestSubstring):\n",
        "            longestSubstring = tempSubstring\n",
        "        right += 1\n",
        "      left += 1\n",
        "    return longestSubstring\n",
        "\n",
        "\n",
        "longestPalindromicSubstring(string)"
      ],
      "metadata": {
        "id": "GVK4eID8f3nQ",
        "colab": {
          "base_uri": "https://localhost:8080/",
          "height": 35
        },
        "outputId": "c6285f55-f39f-4fce-a77d-ab4bdce0c432"
      },
      "execution_count": null,
      "outputs": [
        {
          "output_type": "execute_result",
          "data": {
            "text/plain": [
              "'xyzzyx'"
            ],
            "application/vnd.google.colaboratory.intrinsic+json": {
              "type": "string"
            }
          },
          "metadata": {},
          "execution_count": 22
        }
      ]
    },
    {
      "cell_type": "markdown",
      "source": [
        "# **Group Anagrams**"
      ],
      "metadata": {
        "id": "Br7x9nfe1jkL"
      }
    },
    {
      "cell_type": "code",
      "source": [
        "words = [\"yo\", \"act\", \"flop\", \"tac\", \"foo\", \"cat\", \"oy\", \"olfp\"]"
      ],
      "metadata": {
        "id": "r9wb-Uwq4GcM"
      },
      "execution_count": null,
      "outputs": []
    },
    {
      "cell_type": "code",
      "source": [
        "def groupAnagrams(words):\n",
        "    # Write your code here.\n",
        "    output = []\n",
        "    anagram = {}\n",
        "    for word in words:\n",
        "      sortedWord = \"\".join(sorted(word))\n",
        "      if sortedWord in anagram:\n",
        "        output[sortedWord].append(word)\n",
        "groupAnagrams(words)"
      ],
      "metadata": {
        "colab": {
          "base_uri": "https://localhost:8080/"
        },
        "id": "2pf0bVdB1kms",
        "outputId": "a6e818f1-12f9-4982-a531-e04f3b234ff0"
      },
      "execution_count": null,
      "outputs": [
        {
          "output_type": "execute_result",
          "data": {
            "text/plain": [
              "{'y': 1, 'o': 1}"
            ]
          },
          "metadata": {},
          "execution_count": 8
        }
      ]
    },
    {
      "cell_type": "code",
      "source": [
        "string = \"Hello, how are you?\"\n",
        "words = [\"Hello\", \"are\", \"you\"]\n",
        "\n",
        "result = all(word in string for word in words)\n",
        "print(result)"
      ],
      "metadata": {
        "id": "hN_t2qNr2kEQ"
      },
      "execution_count": null,
      "outputs": []
    },
    {
      "cell_type": "code",
      "source": [
        "def groupAnagrams(words):\n",
        "    # Write your code here.\n",
        "    dictionary = {}\n",
        "    for word in words:\n",
        "      sorted_word = \"\".join(sorted(word))\n",
        "      if sorted_word in dictionary:\n",
        "        dictionary[sorted_word].append(word)\n",
        "      else: #sorted_word not in dictionary\n",
        "        dictionary[sorted_word] = [word]\n",
        "    return list(dictionary.values())\n",
        "\n",
        "\n",
        "groupAnagrams(words)"
      ],
      "metadata": {
        "colab": {
          "base_uri": "https://localhost:8080/"
        },
        "id": "c37sC1HHho7a",
        "outputId": "93c338fd-f7d7-411f-a2da-83031a3e1e1e"
      },
      "execution_count": null,
      "outputs": [
        {
          "output_type": "execute_result",
          "data": {
            "text/plain": [
              "[['yo', 'oy'], ['act', 'tac', 'cat'], ['flop', 'olfp'], ['foo']]"
            ]
          },
          "metadata": {},
          "execution_count": 18
        }
      ]
    },
    {
      "cell_type": "markdown",
      "source": [
        "# **Valid IP Addresses**"
      ],
      "metadata": {
        "id": "uCX9WGTcnRj-"
      }
    },
    {
      "cell_type": "code",
      "source": [
        "def validIPAddresses(string):\n",
        "    # Write your code here.\n",
        "    return []\n"
      ],
      "metadata": {
        "id": "eY-HFFGvnUHk"
      },
      "execution_count": null,
      "outputs": []
    },
    {
      "cell_type": "markdown",
      "source": [
        "# **Reverse Words in String**"
      ],
      "metadata": {
        "id": "plrtu2HpY0zB"
      }
    },
    {
      "cell_type": "code",
      "source": [
        "string = \"AlgoExpert is the best!\""
      ],
      "metadata": {
        "id": "sU1xcxtOY2sB"
      },
      "execution_count": null,
      "outputs": []
    },
    {
      "cell_type": "code",
      "source": [
        "string = \"this      string     has a     lot of   whitespace\""
      ],
      "metadata": {
        "id": "vONdeQs_Zpeb"
      },
      "execution_count": null,
      "outputs": []
    },
    {
      "cell_type": "code",
      "source": [
        "def reverseWordsInString(string):\n",
        "    # Write your code here.\n",
        "    newSentence = string.split()\n",
        "    return \" \".join(newSentence[::-1])\n",
        "reverseWordsInString(string)"
      ],
      "metadata": {
        "colab": {
          "base_uri": "https://localhost:8080/",
          "height": 35
        },
        "id": "gvcMwr0kZB6-",
        "outputId": "00c200f0-82f3-4418-caeb-ce4d34648337"
      },
      "execution_count": null,
      "outputs": [
        {
          "output_type": "execute_result",
          "data": {
            "text/plain": [
              "'whitespace of lot a has string this'"
            ],
            "application/vnd.google.colaboratory.intrinsic+json": {
              "type": "string"
            }
          },
          "metadata": {},
          "execution_count": 13
        }
      ]
    },
    {
      "cell_type": "code",
      "source": [
        "import re\n",
        "def reverseWordsInString(string):\n",
        "    # This regex pattern matches either one or more whitespace characters or one or more non-whitespace characters.\n",
        "    elements = re.findall(r\"[\\s]+|[^\\s]+\", string) # [\\s] refers to whitespaces, |[^\\s] refers to characters (not whitespaces)\n",
        "\n",
        "    # Reverse the list\n",
        "    reversed_elements = elements[::-1]\n",
        "\n",
        "    # Join the list into a string\n",
        "    reversed_string = \"\".join(reversed_elements)\n",
        "\n",
        "    return reversed_string\n",
        "reverseWordsInString(string)"
      ],
      "metadata": {
        "colab": {
          "base_uri": "https://localhost:8080/",
          "height": 35
        },
        "id": "v63t7whWeFxM",
        "outputId": "4cb64cee-a094-47c5-b829-9672246097f8"
      },
      "execution_count": null,
      "outputs": [
        {
          "output_type": "execute_result",
          "data": {
            "text/plain": [
              "'whitespace   of lot     a has     string      this'"
            ],
            "application/vnd.google.colaboratory.intrinsic+json": {
              "type": "string"
            }
          },
          "metadata": {},
          "execution_count": 16
        }
      ]
    },
    {
      "cell_type": "code",
      "source": [
        "import re\n",
        "def reverseWordsInString(string):\n",
        "    # Write your code here.\n",
        "    elements = re.findall(r\"[\\s]+|[^\\s]+\", string)\n",
        "    reversedElements = elements[::-1]\n",
        "    return \"\".join(reversedElements)\n",
        "reverseWordsInString(string)"
      ],
      "metadata": {
        "colab": {
          "base_uri": "https://localhost:8080/",
          "height": 35
        },
        "id": "0MLG4zEbmw3K",
        "outputId": "0619cf52-9647-4a70-b808-a4f6748febaf"
      },
      "execution_count": null,
      "outputs": [
        {
          "output_type": "execute_result",
          "data": {
            "text/plain": [
              "'best! the is AlgoExpert'"
            ],
            "application/vnd.google.colaboratory.intrinsic+json": {
              "type": "string"
            }
          },
          "metadata": {},
          "execution_count": 11
        }
      ]
    },
    {
      "cell_type": "markdown",
      "source": [
        "# **Minimum Characters For Words**"
      ],
      "metadata": {
        "id": "sldXoC1rojnL"
      }
    },
    {
      "cell_type": "code",
      "source": [
        "words = [\"this\", \"that\", \"did\", \"deed\", \"them!\", \"a\"]"
      ],
      "metadata": {
        "id": "U-IUOmwao1Go"
      },
      "execution_count": null,
      "outputs": []
    },
    {
      "cell_type": "code",
      "source": [
        "def minimumCharactersForWords(words):\n",
        "    # Write your code here.\n",
        "    dictionary = {}\n",
        "    output = 0\n",
        "    for word in words:\n",
        "      for letter in word:\n",
        "        if letter not in dictionary:\n",
        "          dictionary[letter] = 1\n",
        "        else:\n",
        "          wordCount = word.count(letter)\n",
        "          if wordCount > dictionary[letter]:\n",
        "            dictionary[letter] = wordCount\n",
        "    result = [key for key, value in dictionary.items() for _ in range(value)]\n",
        "    return result\n",
        "minimumCharactersForWords(words)"
      ],
      "metadata": {
        "colab": {
          "base_uri": "https://localhost:8080/"
        },
        "id": "MieH_XKKojX8",
        "outputId": "aa2aea1f-f59d-4e19-f894-638d39def68f"
      },
      "execution_count": null,
      "outputs": [
        {
          "output_type": "execute_result",
          "data": {
            "text/plain": [
              "['t', 't', 'h', 'i', 's', 'a', 'd', 'd', 'e', 'e', 'm', '!']"
            ]
          },
          "metadata": {},
          "execution_count": 17
        }
      ]
    },
    {
      "cell_type": "code",
      "source": [
        "result = [key for key, value in my_dict.items() for _ in range(value)]"
      ],
      "metadata": {
        "id": "0-7dIeLeuCYN"
      },
      "execution_count": null,
      "outputs": []
    },
    {
      "cell_type": "code",
      "source": [
        "def minimumCharactersForWords(words):\n",
        "    global_dict = {}\n",
        "\n",
        "    for word in words:\n",
        "      local_dict = {}\n",
        "      for char in word:\n",
        "        if char not in local_dict:\n",
        "          local_dict[char] = 1\n",
        "        else:\n",
        "          local_dict[char] += 1\n",
        "\n",
        "        if char not in global_dict or global_dict[char] < local_dict[char]:\n",
        "          global_dict[char] = local_dict[char]\n",
        "    result = [key for key, value in global_dict.items() for _ in range(value)]\n",
        "    return result\n",
        "minimumCharactersForWords(words)"
      ],
      "metadata": {
        "colab": {
          "base_uri": "https://localhost:8080/"
        },
        "id": "-w-YkBCRzAEw",
        "outputId": "1134db17-82b9-485f-86ea-c6c9e00386f7"
      },
      "execution_count": null,
      "outputs": [
        {
          "output_type": "execute_result",
          "data": {
            "text/plain": [
              "['t', 't', 'h', 'i', 's', 'a', 'd', 'd', 'e', 'e', 'm', '!']"
            ]
          },
          "metadata": {},
          "execution_count": 24
        }
      ]
    },
    {
      "cell_type": "markdown",
      "source": [
        "# **One Edit**"
      ],
      "metadata": {
        "id": "Me1m8I435T-k"
      }
    },
    {
      "cell_type": "code",
      "source": [
        "stringOne = \"hello\"\n",
        "stringTwo = \"hollo\""
      ],
      "metadata": {
        "id": "PvfmcMfMYO1g"
      },
      "execution_count": null,
      "outputs": []
    },
    {
      "cell_type": "code",
      "source": [
        "stringOne = \"Hello\"\n",
        "stringTwo = \"hellw\""
      ],
      "metadata": {
        "id": "CRxnOX15YW6E"
      },
      "execution_count": null,
      "outputs": []
    },
    {
      "cell_type": "code",
      "source": [
        "stringOne = \"helo\"\n",
        "stringTwo = \"hello\""
      ],
      "metadata": {
        "id": "w1_6uBd6aACe"
      },
      "execution_count": null,
      "outputs": []
    },
    {
      "cell_type": "code",
      "source": [
        "def oneEdit(stringOne, stringTwo):\n",
        "    # Write your code here.\n",
        "    # check if strings can be made the same by swapping 1 character\n",
        "    if len(stringOne) == len(stringTwo):\n",
        "      count = 0\n",
        "      for idx in range(len(stringOne)):\n",
        "        if stringOne[idx] != stringTwo[idx]:\n",
        "          count += 1\n",
        "        if count == 1:\n",
        "          if stringOne[idx+1:len(stringOne)-1] != stringTwo[idx+1:len(stringTwo)-1]:\n",
        "            return False\n",
        "\n",
        "    # check if strings can be made the same by adding one character\n",
        "    if len(stringOne) == len(stringTwo) -1 or len(stringOne) -1 == len(stringTwo):\n",
        "      stringOneDict = {}\n",
        "      for letter in stringOne:\n",
        "          if letter in stringOneDict:\n",
        "            stringOneDict[letter] += 1\n",
        "          else:\n",
        "            stringOneDict[letter] = 1\n",
        "\n",
        "      print(\"stringOneDict: \", stringOneDict)\n",
        "\n",
        "      stringTwoDict = {}\n",
        "      for letter in stringTwo:\n",
        "          if letter in stringTwoDict:\n",
        "            stringTwoDict[letter] += 1\n",
        "          else:\n",
        "            stringTwoDict[letter] = 1\n",
        "\n",
        "      print(\"stringTwoDict: \", stringTwoDict)\n",
        "\n",
        "      count = 0\n",
        "      for key1, value1 in stringOneDict.items():\n",
        "        for key2, value2 in stringTwoDict.items():\n",
        "          difference =  abs(value1 - value2)\n",
        "          print(\"difference: \", difference)\n",
        "\n",
        "          if key1 != key2 or difference == 1:\n",
        "            count += 1\n",
        "\n",
        "          if difference >= 2 or count > 1:\n",
        "            return False\n",
        "    return True\n",
        "\n",
        "oneEdit(stringOne, stringTwo)"
      ],
      "metadata": {
        "id": "hbOywu6Y5Vny",
        "colab": {
          "base_uri": "https://localhost:8080/"
        },
        "outputId": "81b634e0-af9a-451a-fb9a-3feb84939526"
      },
      "execution_count": null,
      "outputs": [
        {
          "output_type": "execute_result",
          "data": {
            "text/plain": [
              "True"
            ]
          },
          "metadata": {},
          "execution_count": 32
        }
      ]
    },
    {
      "cell_type": "code",
      "source": [
        "# solution\n",
        "# O(n+m) time & space\n",
        "def oneEdit(stringOne, stringTwo):\n",
        "  stringOneLength, stringTwoLength = len(stringOne), len(stringTwo)\n",
        "  if abs(stringOneLength-stringTwoLength) > 1:\n",
        "    return False\n",
        "\n",
        "  for i in range(min(stringOneLength, stringTwoLength)):\n",
        "    if stringOne[i] != stringTwo[i]:\n",
        "      if stringOneLength > stringTwoLength: # \"hello\" \"hllo\"\n",
        "        return stringOne[i+1:] == stringTwo[i:]\n",
        "      elif stringOneLength < stringTwoLength: # \"hllo\" \"hello\"\n",
        "        return stringOne[i:] == stringTwo[i+1:]\n",
        "      else: # \"hello\" \"hollo\"\n",
        "        return stringOne[i+1:] == stringTwo[i+1:]\n",
        "  return True\n",
        "oneEdit(stringOne, stringTwo)"
      ],
      "metadata": {
        "colab": {
          "base_uri": "https://localhost:8080/"
        },
        "id": "qsEIv27rrqLk",
        "outputId": "dccaa78c-bf83-4178-9c38-51fd12cde9a4"
      },
      "execution_count": null,
      "outputs": [
        {
          "output_type": "execute_result",
          "data": {
            "text/plain": [
              "True"
            ]
          },
          "metadata": {},
          "execution_count": 35
        }
      ]
    },
    {
      "cell_type": "code",
      "source": [
        "# O(n) time & O(1) space\n",
        "def oneEdit(stringOne, stringTwo):\n",
        "    # Write your code here.\n",
        "    lenStringOne, lenStringTwo = len(stringOne), len(stringTwo)\n",
        "    if abs(lenStringOne - lenStringTwo) > 1:\n",
        "      return False\n",
        "\n",
        "    editMade = False\n",
        "    p1 = 0\n",
        "    p2 = 0\n",
        "\n",
        "    while p1 < lenStringOne and p2 < lenStringTwo:\n",
        "      if stringOne[p1] != stringTwo[p2]:\n",
        "        if editMade:\n",
        "          return False\n",
        "        editMade = True\n",
        "        if lenStringOne > lenStringTwo: # hello hllo\n",
        "          p1 += 1\n",
        "        elif lenStringOne < lenStringTwo: # hllo hello\n",
        "          p2 += 1\n",
        "        else: # lenStringOne == lenStringTwo, hello hollo\n",
        "          p1 += 1\n",
        "          p2 += 1\n",
        "      else:\n",
        "        p1 += 1\n",
        "        p2 += 1\n",
        "    return True\n",
        "\n",
        "oneEdit(stringOne, stringTwo)"
      ],
      "metadata": {
        "colab": {
          "base_uri": "https://localhost:8080/"
        },
        "id": "gsVEnKkZ2iCq",
        "outputId": "4dbbd984-bcee-4dad-8b75-33bc59fe368f"
      },
      "execution_count": null,
      "outputs": [
        {
          "output_type": "execute_result",
          "data": {
            "text/plain": [
              "True"
            ]
          },
          "metadata": {},
          "execution_count": 38
        }
      ]
    },
    {
      "cell_type": "markdown",
      "source": [
        "# [**Valid IP Addresses**](https://www.algoexpert.io/questions/valid-ip-addresses)"
      ],
      "metadata": {
        "id": "DAFi2y1jyR0r"
      }
    },
    {
      "cell_type": "markdown",
      "source": [
        "Valid IP Address Rules:\n",
        "\n",
        "\n",
        "1.   Must be positive int\n",
        "2.   Must be in range 0 - 250, e.g. 991.1 isnt valid because 991 > 250\n",
        "3.   No leading 0s, e.g. 00 and 01 are invalid, but 0 is valid\n",
        "4.  IP address consists of exactly four decimal numbers\n",
        "\n"
      ],
      "metadata": {
        "id": "Jsc_y1ekQLx3"
      }
    },
    {
      "cell_type": "code",
      "source": [
        "string = \"1921680\"\n",
        "# 1.9.216.80"
      ],
      "metadata": {
        "id": "NjClbxc0R88t"
      },
      "execution_count": 7,
      "outputs": []
    },
    {
      "cell_type": "code",
      "source": [
        "def validIPAddresses(string):\n",
        "    # initilize output array\n",
        "    validIPAddressesFound = []\n",
        "\n",
        "    for i in range(1, min(len(string), 4)):\n",
        "      currentIPAddressParts = [\"\", \"\", \"\", \"\"]\n",
        "\n",
        "      currentIPAddressParts[0] = string[:i]\n",
        "      if not isValidPart(currentIPAddressParts[0]):\n",
        "        continue\n",
        "\n",
        "      for j in range(i+1, i + min(len(string) - i, 4)):\n",
        "        currentIPAddressParts[1] = string[i:j]\n",
        "        if not isValidPart(currentIPAddressParts[1]):\n",
        "          continue\n",
        "\n",
        "        for k in range(j+1, j + min(len(string) - j, 4)):\n",
        "          currentIPAddressParts[2] = string[j:k]\n",
        "          currentIPAddressParts[3] = string[k:]\n",
        "          if isValidPart(currentIPAddressParts[2]) and isValidPart(currentIPAddressParts[3]):\n",
        "            validIPAddressesFound.append(\".\".join(currentIPAddressParts))\n",
        "\n",
        "\n",
        "    return validIPAddressesFound\n",
        "\n",
        "def isValidPart(string):\n",
        "  stringInt = int(string)\n",
        "  if stringInt > 255:\n",
        "    return False\n",
        "\n",
        "  return len(string) == len(str(stringInt))\n",
        "\n",
        "\n",
        "validIPAddresses(string)"
      ],
      "metadata": {
        "colab": {
          "base_uri": "https://localhost:8080/"
        },
        "id": "jeplGAAgQBGA",
        "outputId": "d2c1f79b-1a6c-4d16-ff92-76add8d4c2de"
      },
      "execution_count": 8,
      "outputs": [
        {
          "output_type": "execute_result",
          "data": {
            "text/plain": [
              "['1.9.216.80',\n",
              " '1.92.16.80',\n",
              " '1.92.168.0',\n",
              " '19.2.16.80',\n",
              " '19.2.168.0',\n",
              " '19.21.6.80',\n",
              " '19.21.68.0',\n",
              " '19.216.8.0',\n",
              " '192.1.6.80',\n",
              " '192.1.68.0',\n",
              " '192.16.8.0']"
            ]
          },
          "metadata": {},
          "execution_count": 8
        }
      ]
    },
    {
      "cell_type": "code",
      "source": [
        "a = [1, 2, 3, 4, 5]\n",
        "print(a[1:2])"
      ],
      "metadata": {
        "colab": {
          "base_uri": "https://localhost:8080/"
        },
        "id": "YlJGG542foim",
        "outputId": "653ec323-b3b8-48b8-ea1c-19d25c445b5f"
      },
      "execution_count": 4,
      "outputs": [
        {
          "output_type": "stream",
          "name": "stdout",
          "text": [
            "[2]\n"
          ]
        }
      ]
    },
    {
      "cell_type": "code",
      "source": [],
      "metadata": {
        "id": "lFxpsIyjfqGl"
      },
      "execution_count": null,
      "outputs": []
    }
  ]
}